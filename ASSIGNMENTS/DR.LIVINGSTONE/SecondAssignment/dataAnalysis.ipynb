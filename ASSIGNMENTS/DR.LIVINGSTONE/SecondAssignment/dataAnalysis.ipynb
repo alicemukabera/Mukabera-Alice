{
 "cells": [
  {
   "cell_type": "code",
   "execution_count": 1,
   "id": "9b2638ac",
   "metadata": {},
   "outputs": [
    {
     "name": "stdout",
     "output_type": "stream",
     "text": [
      "Element-wise comparison:\n",
      "Equal:\n",
      " 0    False\n",
      "1    False\n",
      "2    False\n",
      "3    False\n",
      "4     True\n",
      "dtype: bool\n",
      "Greater:\n",
      " 0    False\n",
      "1     True\n",
      "2     True\n",
      "3    False\n",
      "4    False\n",
      "dtype: bool\n",
      "Less:\n",
      " 0     True\n",
      "1    False\n",
      "2    False\n",
      "3     True\n",
      "4    False\n",
      "dtype: bool\n"
     ]
    }
   ],
   "source": [
    "import pandas as pd\n",
    "\n",
    "series1 = pd.Series([4, 65, 436, 3, 9])\n",
    "series2 = pd.Series([7, 0, 3, 897, 9])\n",
    "\n",
    "print(\"Element-wise comparison:\")\n",
    "print(\"Equal:\\n\", series1 == series2)\n",
    "print(\"Greater:\\n\", series1 > series2)\n",
    "print(\"Less:\\n\", series1 < series2)\n"
   ]
  },
  {
   "cell_type": "code",
   "execution_count": 2,
   "id": "c38e954f",
   "metadata": {},
   "outputs": [
    {
     "name": "stdout",
     "output_type": "stream",
     "text": [
      "Addition:\n",
      " 0     3\n",
      "1     7\n",
      "2    11\n",
      "3    15\n",
      "4    23\n",
      "dtype: int64\n",
      "Subtraction:\n",
      " 0    1\n",
      "1    1\n",
      "2    1\n",
      "3    1\n",
      "4    5\n",
      "dtype: int64\n",
      "Multiplication:\n",
      " 0      2\n",
      "1     12\n",
      "2     30\n",
      "3     56\n",
      "4    126\n",
      "dtype: int64\n",
      "Division:\n",
      " 0    2.000000\n",
      "1    1.333333\n",
      "2    1.200000\n",
      "3    1.142857\n",
      "4    1.555556\n",
      "dtype: float64\n"
     ]
    }
   ],
   "source": [
    "series1 = pd.Series([2, 4, 6, 8, 14])\n",
    "series2 = pd.Series([1, 3, 5, 7, 9])\n",
    "\n",
    "print(\"Addition:\\n\", series1 + series2)\n",
    "print(\"Subtraction:\\n\", series1 - series2)\n",
    "print(\"Multiplication:\\n\", series1 * series2)\n",
    "print(\"Division:\\n\", series1 / series2)\n"
   ]
  },
  {
   "cell_type": "code",
   "execution_count": 3,
   "id": "3d65c580",
   "metadata": {},
   "outputs": [
    {
     "name": "stdout",
     "output_type": "stream",
     "text": [
      "Josh       24\n",
      "Sam        36\n",
      "Peace      19\n",
      "Charles    65\n",
      "Tom        44\n",
      "dtype: int64\n"
     ]
    }
   ],
   "source": [
    "dictionary1 = {'Josh': 24, 'Sam': 36, 'Peace': 19, 'Charles': 65, 'Tom': 44}\n",
    "series = pd.Series(dictionary1)\n",
    "print(series)\n"
   ]
  },
  {
   "cell_type": "code",
   "execution_count": 4,
   "id": "55b9660d",
   "metadata": {},
   "outputs": [
    {
     "name": "stdout",
     "output_type": "stream",
     "text": [
      "['Love' 800 'Joy' 789.9 'Peace' True]\n"
     ]
    }
   ],
   "source": [
    "series = pd.Series(['Love', 800, 'Joy', 789.9, 'Peace', True])\n",
    "array = series.to_numpy()\n",
    "print(array)\n"
   ]
  },
  {
   "cell_type": "code",
   "execution_count": 9,
   "id": "617ca270",
   "metadata": {},
   "outputs": [
    {
     "name": "stdout",
     "output_type": "stream",
     "text": [
      "0        1.0\n",
      "1      Other\n",
      "2      Other\n",
      "3      Other\n",
      "4        1.0\n",
      "       ...  \n",
      "617    Other\n",
      "618      1.0\n",
      "619    Other\n",
      "620    Other\n",
      "621    Other\n",
      "Name: HomeTeamGoals, Length: 622, dtype: object\n"
     ]
    }
   ],
   "source": [
    "# Load the Africa Cup of Nations dataset\n",
    "df = pd.read_csv('AfricaCupofNationsMatches.csv')\n",
    "\n",
    "# Get the 'HomeTeamGoals' column\n",
    "home_goals = df['HomeTeamGoals']\n",
    "\n",
    "# Find the most frequent value\n",
    "most_frequent = home_goals.mode()[0]\n",
    "\n",
    "# Replace all other values with 'Other'\n",
    "modified_series = home_goals.apply(lambda x: x if x == most_frequent else 'Other')\n",
    "print(modified_series)\n"
   ]
  },
  {
   "cell_type": "code",
   "execution_count": 10,
   "id": "afd84f10",
   "metadata": {},
   "outputs": [],
   "source": [
    "#DATAFRAMES\n",
    "\n",
    "# 1. Write a Pandas program to read the given csv file.\n",
    "import pandas as pd\n",
    "df = pd.read_csv(\"AfricaCupofNationsMatches.csv\")"
   ]
  },
  {
   "cell_type": "code",
   "execution_count": 11,
   "id": "614d179a",
   "metadata": {},
   "outputs": [
    {
     "name": "stdout",
     "output_type": "stream",
     "text": [
      "   Year      Date  Time    HomeTeam       AwayTeam  HomeTeamGoals  \\\n",
      "0  1957  10-Feb-57   NaN     Sudan           Egypt            1.0   \n",
      "1  1957  10-Feb-57   NaN  Ethiopia    South Africa            NaN   \n",
      "2  1957  16-Feb-57   NaN     Egypt        Ethiopia            4.0   \n",
      "3  1959  22-May-59   NaN      Egypt       Ethiopia            4.0   \n",
      "4  1959  25-May-59   NaN     Sudan        Ethiopia            1.0   \n",
      "5  1959  29-May-59   NaN      Egypt          Sudan            2.0   \n",
      "6  1962  14-Jan-62   NaN  Ethiopia         Tunisia            4.0   \n",
      "\n",
      "   AwayTeamGoals             Stage  \\\n",
      "0            2.0        Semifinals   \n",
      "1            NaN        Semifinals   \n",
      "2            0.0             Final   \n",
      "3            0.0  Final Tournament   \n",
      "4            0.0  Final Tournament   \n",
      "5            1.0  Final Tournament   \n",
      "6            2.0        Semifinals   \n",
      "\n",
      "                                SpecialWinConditions                 Stadium  \\\n",
      "0                                                NaN       Municipal Stadium   \n",
      "1  Ethiopia  wins due to disqualification of othe...                     NaN   \n",
      "2                                                NaN       Municipal Stadium   \n",
      "3                                                NaN   Prince Farouk Stadium   \n",
      "4                                                NaN   Prince Farouk Stadium   \n",
      "5                                                NaN   Prince Farouk Stadium   \n",
      "6                                                NaN  Hailé Sélassié Stadium   \n",
      "\n",
      "           City  Attendance  \n",
      "0      Khartoum     30000.0  \n",
      "1           NaN         NaN  \n",
      "2      Khartoum     30000.0  \n",
      "3         Cairo     30000.0  \n",
      "4         Cairo     20000.0  \n",
      "5         Cairo     30000.0  \n",
      "6   Addis Ababa     30000.0  \n"
     ]
    }
   ],
   "source": [
    "# 2. Write a Pandas program to get the first 7 rows of your data frame.\n",
    "print(df.head(7))\n"
   ]
  },
  {
   "cell_type": "code",
   "execution_count": 12,
   "id": "5c8bf4b5",
   "metadata": {},
   "outputs": [
    {
     "name": "stdout",
     "output_type": "stream",
     "text": [
      "        HomeTeam       AwayTeam  HomeTeamGoals  AwayTeamGoals\n",
      "0         Sudan           Egypt            1.0            2.0\n",
      "1      Ethiopia    South Africa            NaN            NaN\n",
      "2         Egypt        Ethiopia            4.0            0.0\n",
      "3          Egypt       Ethiopia            4.0            0.0\n",
      "4         Sudan        Ethiopia            1.0            0.0\n",
      "..           ...            ...            ...            ...\n",
      "617  Madagascar         Tunisia            0.0            3.0\n",
      "618     Senegal         Tunisia            1.0            0.0\n",
      "619     Algeria         Nigeria            2.0            1.0\n",
      "620     Tunisia         Nigeria            0.0            1.0\n",
      "621     Senegal         Algeria            0.0            1.0\n",
      "\n",
      "[622 rows x 4 columns]\n"
     ]
    }
   ],
   "source": [
    "# 3. Write a Pandas program to select the ‘HomeTeam’, ‘AwayTeam’, ‘HomeTeamGoals’ and ‘AwayTeamGoals’ columns.\n",
    "print(df[['HomeTeam', 'AwayTeam', 'HomeTeamGoals', 'AwayTeamGoals']])\n"
   ]
  },
  {
   "cell_type": "code",
   "execution_count": 13,
   "id": "07f2a612",
   "metadata": {},
   "outputs": [
    {
     "name": "stdout",
     "output_type": "stream",
     "text": [
      "    Year      Date  Time    HomeTeam   AwayTeam  HomeTeamGoals  AwayTeamGoals  \\\n",
      "3   1959  22-May-59   NaN      Egypt   Ethiopia            4.0            0.0   \n",
      "5   1959  29-May-59   NaN      Egypt      Sudan            2.0            1.0   \n",
      "7   1962  18-Jan-62   NaN      Egypt     Uganda            2.0            1.0   \n",
      "9   1962  21-Jan-62   NaN  Ethiopia       Egypt            4.0            2.0   \n",
      "13  1963  24-Nov-63   NaN      Egypt    Nigeria            6.0            3.0   \n",
      "14  1963  26-Nov-63   NaN      Egypt      Sudan            2.0            2.0   \n",
      "16  1963  30-Nov-63   NaN      Egypt   Ethiopia            3.0            0.0   \n",
      "\n",
      "                Stage    SpecialWinConditions                 Stadium  \\\n",
      "3    Final Tournament                     NaN   Prince Farouk Stadium   \n",
      "5    Final Tournament                     NaN   Prince Farouk Stadium   \n",
      "7          Semifinals                     NaN  Hailé Sélassié Stadium   \n",
      "9               Final   win after extra time   Hailé Sélassié Stadium   \n",
      "13            Group B                     NaN   Kumasi Sports Stadium   \n",
      "14            Group B                     NaN   Kumasi Sports Stadium   \n",
      "16  Third place match                     NaN    Accra Sports Stadium   \n",
      "\n",
      "            City  Attendance  \n",
      "3          Cairo     30000.0  \n",
      "5          Cairo     30000.0  \n",
      "7    Addis Ababa     30000.0  \n",
      "9    Addis Ababa         NaN  \n",
      "13        Kumasi         NaN  \n",
      "14        Kumasi         NaN  \n",
      "16         Accra         NaN  \n"
     ]
    }
   ],
   "source": [
    "# 4. Write a Pandas program to select the rows where Egypt appears.\n",
    "print(df[(df['HomeTeam'] == 'Egypt') | (df['AwayTeam'] == 'Egypt')])\n"
   ]
  },
  {
   "cell_type": "code",
   "execution_count": 14,
   "id": "b228fef3",
   "metadata": {},
   "outputs": [
    {
     "name": "stdout",
     "output_type": "stream",
     "text": [
      "Rows: 622 Columns: 12\n"
     ]
    }
   ],
   "source": [
    "# 5. Write a Pandas program to count the number of rows and columns of your data frame.\n",
    "print(\"Rows:\", df.shape[0], \"Columns:\", df.shape[1])\n"
   ]
  },
  {
   "cell_type": "code",
   "execution_count": 15,
   "id": "55da4d85",
   "metadata": {},
   "outputs": [
    {
     "name": "stdout",
     "output_type": "stream",
     "text": [
      "     Year                         Date   Time        HomeTeam       AwayTeam  \\\n",
      "1    1957                     10-Feb-57    NaN      Ethiopia    South Africa   \n",
      "8    1962                     20-Jan-62    NaN       Tunisia          Uganda   \n",
      "9    1962                     21-Jan-62    NaN      Ethiopia           Egypt   \n",
      "10   1963                     24-Nov-63    NaN         Ghana         Tunisia   \n",
      "11   1963                     26-Nov-63    NaN         Ghana        Ethiopia   \n",
      "..    ...                           ...    ...            ...            ...   \n",
      "565  2017  29 January 2017 (2017-01-29)  20:00         Egypt         Morocco   \n",
      "566  2017  1 February 2017 (2017-02-01)  20:00  Burkina Faso           Egypt   \n",
      "567  2017  2 February 2017 (2017-02-02)  20:00      Cameroon           Ghana   \n",
      "568  2017  4 February 2017 (2017-02-04)  20:00  Burkina Faso           Ghana   \n",
      "569  2017  5 February 2017 (2017-02-05)  20:00         Egypt        Cameroon   \n",
      "\n",
      "     HomeTeamGoals  AwayTeamGoals                 Stage  \\\n",
      "1              NaN            NaN            Semifinals   \n",
      "8              3.0            0.0     Third place match   \n",
      "9              4.0            2.0                 Final   \n",
      "10             1.0            1.0               Group A   \n",
      "11             2.0            0.0               Group A   \n",
      "..             ...            ...                   ...   \n",
      "565            1.0            0.0        Quarter-finals   \n",
      "566            1.0            1.0           Semi-finals   \n",
      "567            2.0            0.0           Semi-finals   \n",
      "568            1.0            0.0  Third place play-off   \n",
      "569            1.0            2.0                 Final   \n",
      "\n",
      "                                  SpecialWinConditions  \\\n",
      "1    Ethiopia  wins due to disqualification of othe...   \n",
      "8                                                  NaN   \n",
      "9                                win after extra time    \n",
      "10                                                 NaN   \n",
      "11                                                 NaN   \n",
      "..                                                 ...   \n",
      "565                                                NaN   \n",
      "566                        Egypt win on Penalities 3-4   \n",
      "567                                                NaN   \n",
      "568                                                NaN   \n",
      "569                                                NaN   \n",
      "\n",
      "                    Stadium          City  Attendance  \n",
      "1                       NaN           NaN         NaN  \n",
      "8    Hailé Sélassié Stadium   Addis Ababa         NaN  \n",
      "9    Hailé Sélassié Stadium   Addis Ababa         NaN  \n",
      "10     Accra Sports Stadium         Accra         NaN  \n",
      "11     Accra Sports Stadium         Accra         NaN  \n",
      "..                      ...           ...         ...  \n",
      "565    Stade de Port-Gentil   Port-Gentil         NaN  \n",
      "566       Stade de l'Amitié    Libreville         NaN  \n",
      "567    Stade de Franceville   Franceville         NaN  \n",
      "568    Stade de Port-Gentil   Port-Gentil         NaN  \n",
      "569       Stade de l'Amitié    Libreville         NaN  \n",
      "\n",
      "[100 rows x 12 columns]\n"
     ]
    }
   ],
   "source": [
    "# 6. Write a Pandas program to select the rows where the ‘Attendance’ is missing.\n",
    "print(df[df['Attendance'].isna()])\n"
   ]
  },
  {
   "cell_type": "code",
   "execution_count": 16,
   "id": "60c23077",
   "metadata": {},
   "outputs": [
    {
     "name": "stdout",
     "output_type": "stream",
     "text": [
      "     Year                         Date   Time    HomeTeam     AwayTeam  \\\n",
      "2    1957                     16-Feb-57    NaN     Egypt      Ethiopia   \n",
      "3    1959                     22-May-59    NaN      Egypt     Ethiopia   \n",
      "6    1962                     14-Jan-62    NaN  Ethiopia       Tunisia   \n",
      "8    1962                     20-Jan-62    NaN   Tunisia        Uganda   \n",
      "9    1962                     21-Jan-62    NaN  Ethiopia         Egypt   \n",
      "..    ...                           ...    ...        ...          ...   \n",
      "553  2017  20 January 2017 (2017-01-20)  20:00   Morocco          Togo   \n",
      "585  2019     27 June 2019 (2019-06-27)  22:00     Kenya      Tanzania   \n",
      "595  2019     24 June 2019 (2019-06-24)  22:00      Mali    Mauritania   \n",
      "608  2019      6 July 2019 (2019-07-06)  18:00   Nigeria      Cameroon   \n",
      "611  2019      7 July 2019 (2019-07-07)  21:00   Algeria        Guinea   \n",
      "\n",
      "     HomeTeamGoals  AwayTeamGoals              Stage    SpecialWinConditions  \\\n",
      "2              4.0            0.0              Final                     NaN   \n",
      "3              4.0            0.0   Final Tournament                     NaN   \n",
      "6              4.0            2.0         Semifinals                     NaN   \n",
      "8              3.0            0.0  Third place match                     NaN   \n",
      "9              4.0            2.0              Final   win after extra time    \n",
      "..             ...            ...                ...                     ...   \n",
      "553            3.0            1.0            Group C                     NaN   \n",
      "585            3.0            2.0            Group C                     NaN   \n",
      "595            4.0            1.0            Group E                     NaN   \n",
      "608            3.0            2.0        Round of 16                     NaN   \n",
      "611            3.0            0.0        Round of 16                     NaN   \n",
      "\n",
      "                    Stadium          City  Attendance  \n",
      "2         Municipal Stadium      Khartoum     30000.0  \n",
      "3     Prince Farouk Stadium         Cairo     30000.0  \n",
      "6    Hailé Sélassié Stadium   Addis Ababa     30000.0  \n",
      "8    Hailé Sélassié Stadium   Addis Ababa         NaN  \n",
      "9    Hailé Sélassié Stadium   Addis Ababa         NaN  \n",
      "..                      ...           ...         ...  \n",
      "553            Stade d'Oyem          Oyem         NaN  \n",
      "585         30 June Stadium         Cairo      7233.0  \n",
      "595            Suez Stadium          Suez      6202.0  \n",
      "608      Alexandria Stadium    Alexandria     10000.0  \n",
      "611         30 June Stadium         Cairo      8205.0  \n",
      "\n",
      "[138 rows x 12 columns]\n"
     ]
    }
   ],
   "source": [
    "# 7. Write a Pandas program to select the rows where the ‘HomeTeamGoals’ are between 3 and 6 inclusive.\n",
    "print(df[df['HomeTeamGoals'].between(3, 6)])\n"
   ]
  },
  {
   "cell_type": "code",
   "execution_count": 17,
   "id": "14b14e19",
   "metadata": {},
   "outputs": [
    {
     "name": "stdout",
     "output_type": "stream",
     "text": [
      "Year                                 1957\n",
      "Date                            16-Feb-57\n",
      "Time                                  NaN\n",
      "HomeTeam                           Egypt \n",
      "AwayTeam                         Ethiopia\n",
      "HomeTeamGoals                         4.0\n",
      "AwayTeamGoals                        10.0\n",
      "Stage                               Final\n",
      "SpecialWinConditions                  NaN\n",
      "Stadium                 Municipal Stadium\n",
      "City                             Khartoum\n",
      "Attendance                        30000.0\n",
      "Name: 2, dtype: object\n"
     ]
    }
   ],
   "source": [
    "# 8. Write a Pandas program to change the “AwayTeamGoals” in the 3rd row to 10.\n",
    "df.loc[2, 'AwayTeamGoals'] = 10\n",
    "print(df.loc[2])\n"
   ]
  },
  {
   "cell_type": "code",
   "execution_count": 18,
   "id": "74edb714",
   "metadata": {},
   "outputs": [
    {
     "name": "stdout",
     "output_type": "stream",
     "text": [
      "     Year      Date  Time   HomeTeam  AwayTeam  HomeTeamGoals  AwayTeamGoals  \\\n",
      "205  1990   2-Mar-90   NaN  Algeria    Nigeria            5.0            1.0   \n",
      "29   1968  14-Jan-68   NaN  Algeria     Uganda            4.0            0.0   \n",
      "135  1980  16-Mar-80   NaN  Algeria     Guinea            3.0            2.0   \n",
      "164  1984   5-Mar-84   NaN  Algeria     Malawi            3.0            0.0   \n",
      "171  1984  17-Mar-84   NaN  Algeria      Egypt            3.0            1.0   \n",
      "\n",
      "                 Stage SpecialWinConditions                       Stadium  \\\n",
      "205            Group A                  NaN          Stade 5 Juillet 1962   \n",
      "29             Group A                  NaN        Hailé Sélassié Stadium   \n",
      "135            Group B                  NaN               Liberty Stadium   \n",
      "164            Group B                  NaN                  Stade Bouaké   \n",
      "171  Third place match                  NaN  Stade Félix Houphouët-Boigny   \n",
      "\n",
      "             City  Attendance  \n",
      "205       Algiers     85000.0  \n",
      "29    Addis Ababa     25000.0  \n",
      "135        Ibadan     20000.0  \n",
      "164        Bouaké     10000.0  \n",
      "171       Abidjan       500.0  \n"
     ]
    }
   ],
   "source": [
    "# 9. Write a Pandas program to sort the DataFrame first by ‘HomeTeam’ in ascending order, then by ‘HomeTeamGoals’ in descending order.\n",
    "df_sorted = df.sort_values(by=['HomeTeam', 'HomeTeamGoals'], ascending=[True, False])\n",
    "print(df_sorted.head())\n"
   ]
  },
  {
   "cell_type": "code",
   "execution_count": 19,
   "id": "384cb2bc",
   "metadata": {},
   "outputs": [
    {
     "name": "stdout",
     "output_type": "stream",
     "text": [
      "['Year', 'Date ', 'Time ', 'HomeTeam', 'AwayTeam', 'HomeTeamGoals', 'AwayTeamGoals', 'Stage', 'SpecialWinConditions', 'Stadium', 'City', 'Attendance']\n"
     ]
    }
   ],
   "source": [
    "# 10. Write a Pandas program to get list from DataFrame column headers.\n",
    "print(df.columns.tolist())\n"
   ]
  },
  {
   "cell_type": "code",
   "execution_count": 20,
   "id": "d6ee4e27",
   "metadata": {},
   "outputs": [
    {
     "name": "stdout",
     "output_type": "stream",
     "text": [
      "    HomeTeam       AwayTeam  MatchPlayed\n",
      "0     Sudan           Egypt         True\n",
      "1  Ethiopia    South Africa         True\n",
      "2     Egypt        Ethiopia         True\n",
      "3      Egypt       Ethiopia         True\n",
      "4     Sudan        Ethiopia         True\n"
     ]
    }
   ],
   "source": [
    "# 11. Write a Pandas program to append a column of your choice to your DataFrame.\n",
    "df['MatchPlayed'] = True\n",
    "print(df[['HomeTeam', 'AwayTeam', 'MatchPlayed']].head())\n"
   ]
  },
  {
   "cell_type": "code",
   "execution_count": 21,
   "id": "3a4fabc8",
   "metadata": {},
   "outputs": [
    {
     "name": "stdout",
     "output_type": "stream",
     "text": [
      "     Year                      Date   Time    HomeTeam       AwayTeam  \\\n",
      "621  2019  19 July 2019 (2019-07-19)  21:00   Senegal         Algeria   \n",
      "622  1957                  10-Feb-57    NaN     Sudan           Egypt   \n",
      "623  1957                  10-Feb-57    NaN  Ethiopia    South Africa   \n",
      "\n",
      "     HomeTeamGoals  AwayTeamGoals       Stage  \\\n",
      "621            0.0            1.0       Final   \n",
      "622            1.0            2.0  Semifinals   \n",
      "623            NaN            NaN  Semifinals   \n",
      "\n",
      "                                  SpecialWinConditions  \\\n",
      "621                                                NaN   \n",
      "622                                                NaN   \n",
      "623  Ethiopia  wins due to disqualification of othe...   \n",
      "\n",
      "                         Stadium       City  Attendance  MatchPlayed  \n",
      "621  Cairo International Stadium      Cairo     75000.0         True  \n",
      "622            Municipal Stadium   Khartoum     30000.0         True  \n",
      "623                          NaN        NaN         NaN         True  \n"
     ]
    }
   ],
   "source": [
    "# 12. Write a Pandas program to add 2 rows to your DataFrame.\n",
    "new_rows = pd.DataFrame([df.iloc[0].to_dict(), df.iloc[1].to_dict()])\n",
    "df = pd.concat([df, new_rows], ignore_index=True)\n",
    "print(df.tail(3))\n"
   ]
  },
  {
   "cell_type": "code",
   "execution_count": 22,
   "id": "76c7d54b",
   "metadata": {},
   "outputs": [
    {
     "name": "stdout",
     "output_type": "stream",
     "text": [
      "Empty DataFrame\n",
      "Columns: [Year, Date , Time , HomeTeam, AwayTeam, HomeTeamGoals, AwayTeamGoals, Stage, SpecialWinConditions, Stadium, City, Attendance, MatchPlayed]\n",
      "Index: []\n"
     ]
    }
   ],
   "source": [
    "# 13. Write a Pandas program to change the country ‘Uganda’ to ‘China’ in the ‘AwayTeam’ column of the DataFrame.\n",
    "df['AwayTeam'] = df['AwayTeam'].replace('Uganda', 'China')\n",
    "print(df[df['AwayTeam'] == 'China'].head())\n"
   ]
  },
  {
   "cell_type": "code",
   "execution_count": 23,
   "id": "46df33c3",
   "metadata": {},
   "outputs": [
    {
     "name": "stdout",
     "output_type": "stream",
     "text": [
      "   Year      Date  Time    HomeTeam       AwayTeam  HomeTeamGoals  \\\n",
      "0  1957  10-Feb-57   NaN     Sudan           Egypt            1.0   \n",
      "1  1957  10-Feb-57   NaN  Ethiopia    South Africa            NaN   \n",
      "2  1957  16-Feb-57   NaN     Egypt        Ethiopia            4.0   \n",
      "3  1959  22-May-59   NaN      Egypt       Ethiopia            4.0   \n",
      "4  1959  25-May-59   NaN     Sudan        Ethiopia            1.0   \n",
      "\n",
      "   AwayTeamGoals             Stage  \\\n",
      "0            2.0        Semifinals   \n",
      "1            NaN        Semifinals   \n",
      "2           10.0             Final   \n",
      "3            0.0  Final Tournament   \n",
      "4            0.0  Final Tournament   \n",
      "\n",
      "                                SpecialWinConditions                Stadium  \\\n",
      "0                                                NaN      Municipal Stadium   \n",
      "1  Ethiopia  wins due to disqualification of othe...                    NaN   \n",
      "2                                                NaN      Municipal Stadium   \n",
      "3                                                NaN  Prince Farouk Stadium   \n",
      "4                                                NaN  Prince Farouk Stadium   \n",
      "\n",
      "        City  Attendance  MatchPlayed  \n",
      "0   Khartoum     30000.0         True  \n",
      "1        NaN         NaN         True  \n",
      "2   Khartoum     30000.0         True  \n",
      "3      Cairo     30000.0         True  \n",
      "4      Cairo     20000.0         True  \n"
     ]
    }
   ],
   "source": [
    "# 14. Write a Pandas program to reset index in your DataFrame.\n",
    "df = df.reset_index(drop=True)\n",
    "print(df.head())\n"
   ]
  },
  {
   "cell_type": "code",
   "execution_count": 24,
   "id": "be8a6c9a",
   "metadata": {},
   "outputs": [
    {
     "name": "stdout",
     "output_type": "stream",
     "text": [
      "True\n"
     ]
    }
   ],
   "source": [
    "# 15. Write a Pandas program to check whether the ‘Stadium’ column is present in your DataFrame or not.\n",
    "print('Stadium' in df.columns)\n"
   ]
  },
  {
   "cell_type": "code",
   "execution_count": 25,
   "id": "cde355b1",
   "metadata": {},
   "outputs": [
    {
     "name": "stdout",
     "output_type": "stream",
     "text": [
      "float64\n"
     ]
    }
   ],
   "source": [
    "# 16. Write a Pandas program to convert the datatype of the ‘AwayTeamGoals’. (int to float)\n",
    "df['AwayTeamGoals'] = df['AwayTeamGoals'].astype(float)\n",
    "print(df['AwayTeamGoals'].dtype)\n"
   ]
  },
  {
   "cell_type": "code",
   "execution_count": 26,
   "id": "488702cc",
   "metadata": {},
   "outputs": [
    {
     "name": "stdout",
     "output_type": "stream",
     "text": [
      "     Year                     Date   Time      HomeTeam       AwayTeam  \\\n",
      "609  2019  6 July 2019 (2019-07-06)  21:00       Egypt    South Africa   \n",
      "610  2019  7 July 2019 (2019-07-07)  18:00  Madagascar        DR Congo   \n",
      "611  2019  7 July 2019 (2019-07-07)  21:00     Algeria          Guinea   \n",
      "612  2019  8 July 2019 (2019-07-08)  18:00        Mali     Ivory Coast   \n",
      "613  2019  8 July 2019 (2019-07-08)  21:00       Ghana         Tunisia   \n",
      "\n",
      "     HomeTeamGoals  AwayTeamGoals        Stage  \\\n",
      "609            0.0            1.0  Round of 16   \n",
      "610            2.0            2.0  Round of 16   \n",
      "611            3.0            0.0  Round of 16   \n",
      "612            0.0            1.0  Round of 16   \n",
      "613            1.0            1.0  Round of 16   \n",
      "\n",
      "                  SpecialWinConditions                      Stadium  \\\n",
      "609                                NaN  Cairo International Stadium   \n",
      "610  Madagascar  win on Penalities 4-2           Alexandria Stadium   \n",
      "611                                NaN              30 June Stadium   \n",
      "612                                NaN                 Suez Stadium   \n",
      "613      Tunisia win on Penalities 4-5             Ismailia Stadium   \n",
      "\n",
      "            City  Attendance  MatchPlayed  \n",
      "609        Cairo     75000.0         True  \n",
      "610   Alexandria      5890.0         True  \n",
      "611        Cairo      8205.0         True  \n",
      "612         Suez      7672.0         True  \n",
      "613     Ismailia      8890.0         True  \n"
     ]
    }
   ],
   "source": [
    "# 17. Write a Pandas program to remove the last 10 rows from your DataFrame.\n",
    "df = df[:-10]\n",
    "print(df.tail())\n"
   ]
  },
  {
   "cell_type": "code",
   "execution_count": 27,
   "id": "42901dd2",
   "metadata": {},
   "outputs": [
    {
     "name": "stdout",
     "output_type": "stream",
     "text": [
      "0 Sudan   Egypt\n",
      "1 Ethiopia   South Africa\n",
      "2 Egypt   Ethiopia\n"
     ]
    }
   ],
   "source": [
    "# 18. Write a Pandas program to iterate over rows in your DataFrame.\n",
    "for index, row in df.head(3).iterrows():\n",
    "    print(index, row['HomeTeam'], row['AwayTeam'])\n"
   ]
  },
  {
   "cell_type": "code",
   "execution_count": 28,
   "id": "ea932543",
   "metadata": {},
   "outputs": [
    {
     "name": "stdout",
     "output_type": "stream",
     "text": [
      "['HomeTeam', 'AwayTeam', 'HomeTeamGoals', 'AwayTeamGoals', 'Year', 'Date ', 'Time ', 'Stage', 'SpecialWinConditions', 'Stadium', 'City', 'Attendance', 'MatchPlayed']\n"
     ]
    }
   ],
   "source": [
    "# 19. Write a Pandas program to change the order of your DataFrame columns.\n",
    "new_order = ['HomeTeam', 'AwayTeam', 'HomeTeamGoals', 'AwayTeamGoals'] + \\\n",
    "            [col for col in df.columns if col not in ['HomeTeam', 'AwayTeam', 'HomeTeamGoals', 'AwayTeamGoals']]\n",
    "df = df[new_order]\n",
    "print(df.columns.tolist())\n"
   ]
  },
  {
   "cell_type": "code",
   "execution_count": 29,
   "id": "948eb1c8",
   "metadata": {},
   "outputs": [
    {
     "name": "stdout",
     "output_type": "stream",
     "text": [
      "Rows with HomeTeamGoals = 0: 0\n"
     ]
    }
   ],
   "source": [
    "# 20. Write a Pandas program to delete DataFrame row(s) whose value is 0 in the ‘HomeTeamGoals’ columns.\n",
    "df = df[df['HomeTeamGoals'] != 0]\n",
    "print(\"Rows with HomeTeamGoals = 0:\", df['HomeTeamGoals'].eq(0).sum())\n"
   ]
  }
 ],
 "metadata": {
  "kernelspec": {
   "display_name": "base",
   "language": "python",
   "name": "python3"
  },
  "language_info": {
   "codemirror_mode": {
    "name": "ipython",
    "version": 3
   },
   "file_extension": ".py",
   "mimetype": "text/x-python",
   "name": "python",
   "nbconvert_exporter": "python",
   "pygments_lexer": "ipython3",
   "version": "3.12.7"
  }
 },
 "nbformat": 4,
 "nbformat_minor": 5
}
